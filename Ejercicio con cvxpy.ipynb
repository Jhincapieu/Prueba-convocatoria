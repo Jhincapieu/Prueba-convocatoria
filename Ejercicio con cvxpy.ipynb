{
  "nbformat": 4,
  "nbformat_minor": 0,
  "metadata": {
    "colab": {
      "provenance": [],
      "authorship_tag": "ABX9TyM0RSvdmxToSW27pVEOHfPZ",
      "include_colab_link": true
    },
    "kernelspec": {
      "name": "python3",
      "display_name": "Python 3"
    },
    "language_info": {
      "name": "python"
    }
  },
  "cells": [
    {
      "cell_type": "markdown",
      "metadata": {
        "id": "view-in-github",
        "colab_type": "text"
      },
      "source": [
        "<a href=\"https://colab.research.google.com/github/Jhincapieu/Prueba-convocatoria/blob/main/Ejercicio%20con%20cvxpy.ipynb\" target=\"_parent\"><img src=\"https://colab.research.google.com/assets/colab-badge.svg\" alt=\"Open In Colab\"/></a>"
      ]
    },
    {
      "cell_type": "markdown",
      "source": [
        "3. Resolver el siguiente ejercicio en GoogleColab con la librería cvxpy utilizando al menos dos solvers diferentes y comparando las respuestas generadas por cada uno de ellos (el cálculo de las diferencias debe ser realizado de manera automática por el código). El archivo generado debe ser compartido con permisos de edición con mi cuenta gawad@unal.edu.co y, además, enviado al repositorio creado en el numeral 2.\n",
        "\n",
        "Minimizar 3*x + 8*y\n",
        "\n",
        "sujeto a:\n",
        "\n",
        "x + y >= 50\n",
        "\n",
        "x - y <= 20\n",
        "\n",
        "x >= 0\n",
        "\n",
        "y >= 0\n"
      ],
      "metadata": {
        "id": "RUCmq8lDNPo-"
      }
    },
    {
      "cell_type": "code",
      "execution_count": 2,
      "metadata": {
        "colab": {
          "base_uri": "https://localhost:8080/"
        },
        "id": "HKzrjPaPNNe5",
        "outputId": "99e2266f-3fe1-44c5-dbd9-7000003b9bf3"
      },
      "outputs": [
        {
          "output_type": "stream",
          "name": "stdout",
          "text": [
            "Requirement already satisfied: cvxpy in /usr/local/lib/python3.10/dist-packages (1.3.2)\n",
            "Requirement already satisfied: osqp>=0.4.1 in /usr/local/lib/python3.10/dist-packages (from cvxpy) (0.6.2.post8)\n",
            "Requirement already satisfied: ecos>=2 in /usr/local/lib/python3.10/dist-packages (from cvxpy) (2.0.12)\n",
            "Requirement already satisfied: scs>=1.1.6 in /usr/local/lib/python3.10/dist-packages (from cvxpy) (3.2.3)\n",
            "Requirement already satisfied: numpy>=1.15 in /usr/local/lib/python3.10/dist-packages (from cvxpy) (1.22.4)\n",
            "Requirement already satisfied: scipy>=1.1.0 in /usr/local/lib/python3.10/dist-packages (from cvxpy) (1.10.1)\n",
            "Requirement already satisfied: setuptools>65.5.1 in /usr/local/lib/python3.10/dist-packages (from cvxpy) (67.7.2)\n",
            "Requirement already satisfied: qdldl in /usr/local/lib/python3.10/dist-packages (from osqp>=0.4.1->cvxpy) (0.1.7.post0)\n",
            "Solucionadores instalados:\n",
            "CVXOPT\n",
            "ECOS\n",
            "ECOS_BB\n",
            "GLPK\n",
            "GLPK_MI\n",
            "OSQP\n",
            "SCIPY\n",
            "SCS\n"
          ]
        }
      ],
      "source": [
        "#vamos a instalar cvxpy\n",
        "!pip install cvxpy\n",
        "\n",
        "#ahora miremos los solvers que tenemos instalados\n",
        "\n",
        "import cvxpy as cp\n",
        "\n",
        "# Obtener la lista de solucionadores instalados\n",
        "solvers = cp.installed_solvers()\n",
        "\n",
        "# Imprimir la lista de solucionadores ECOS y SCS\n",
        "print(\"Solucionadores instalados:\")\n",
        "for solver in solvers:\n",
        "    print(solver)\n"
      ]
    },
    {
      "cell_type": "markdown",
      "source": [
        "Vamos a utilizar los solvers ECOS y SCS"
      ],
      "metadata": {
        "id": "rU0pwERKUqVE"
      }
    },
    {
      "cell_type": "code",
      "source": [
        "# Crear variables\n",
        "x = cp.Variable()\n",
        "y = cp.Variable()\n",
        "\n",
        "# Definir función objetivo y restricciones\n",
        "objective = cp.Minimize (3 * x + 8 * y)\n",
        "constraints = [x + y >= 50,\n",
        "               x - y <= 20,\n",
        "               x >= 0 ,\n",
        "               y >= 0]\n",
        "\n",
        "# Crear el problema de optimización\n",
        "problem = cp.Problem(objective, constraints)\n",
        "\n",
        "# Especificar el solucionador ECOS\n",
        "problem.solve(solver=cp.ECOS)\n",
        "\n",
        "print(\"Con el solucionador ECOS\\n\")\n",
        "\n",
        "#Imprimir resultados\n",
        "print(\"Valor óptimo de x:\", x.value)\n",
        "print(\"Valor óptimo de y:\", y.value)\n",
        "print(\"Valor óptimo de la función objetivo:\", problem.value)\n",
        "\n",
        "#Especificar el solucionador SCS\n",
        "problem.solve(solver=cp.SCS)\n",
        "\n",
        "print(\"\\nCon el solucionador SCS\\n\")\n",
        "\n",
        "# Imprimir resultados\n",
        "print(\"Valor óptimo de x:\", x.value)\n",
        "print(\"Valor óptimo de y:\", y.value)\n",
        "print(\"Valor óptimo de la función objetivo:\", problem.value)"
      ],
      "metadata": {
        "colab": {
          "base_uri": "https://localhost:8080/"
        },
        "id": "qGS8xFHhQy-H",
        "outputId": "5badc5e5-812e-4732-f3b5-25ebead1cdfd"
      },
      "execution_count": 11,
      "outputs": [
        {
          "output_type": "stream",
          "name": "stdout",
          "text": [
            "Con el solucionador ECOS\n",
            "\n",
            "Valor óptimo de x: 35.00000000022704\n",
            "Valor óptimo de y: 14.999999960115321\n",
            "Valor óptimo de la función objetivo: 224.9999996816037\n",
            "\n",
            "Con el solucionador SCS\n",
            "\n",
            "Valor óptimo de x: 35.00001549417793\n",
            "Valor óptimo de y: 15.000001107491368\n",
            "Valor óptimo de la función objetivo: 225.00005534246475\n"
          ]
        }
      ]
    }
  ]
}